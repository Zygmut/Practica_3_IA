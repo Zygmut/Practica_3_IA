{
 "cells": [
  {
   "cell_type": "code",
   "execution_count": 382,
   "id": "41eab4c8-0882-435f-a652-0adb7d645e48",
   "metadata": {},
   "outputs": [],
   "source": [
    "# Para mas información, consulta el GitHub [https://github.com/Zygmut/Practica_3_IA]\n",
    "# Autores: Palmer Pérez, Rubén; Torres Torres, Marc; Orr, Kieran Donal"
   ]
  },
  {
   "cell_type": "markdown",
   "id": "a60c2ad8",
   "metadata": {},
   "source": [
    "# Setup\n",
    "Importamos todos los paquetes necesarios para la práctica. "
   ]
  },
  {
   "cell_type": "code",
   "execution_count": 383,
   "id": "fc2ffd68-c543-49bd-9413-e0e84c0ffa93",
   "metadata": {},
   "outputs": [],
   "source": [
    "import numpy as np\n",
    "import pandas as pd\n",
    "import matplotlib.pyplot as plt\n",
    "from sklearn import preprocessing\n",
    "from sklearn.preprocessing import LabelEncoder\n",
    "from sklearn.model_selection import train_test_split\n",
    "from sklearn.metrics import classification_report\n",
    "from sklearn.linear_model import LogisticRegression, Perceptron\n",
    "from sklearn.ensemble import RandomForestClassifier "
   ]
  },
  {
   "cell_type": "markdown",
   "id": "d7d6bb1b",
   "metadata": {},
   "source": [
    "Creamos un conjunto de variables para facil acceso y cambio de parámetros"
   ]
  },
  {
   "cell_type": "code",
   "execution_count": 384,
   "id": "99381966",
   "metadata": {},
   "outputs": [],
   "source": [
    "TEST_SIZE = 0.33"
   ]
  },
  {
   "cell_type": "markdown",
   "id": "8625d1cb",
   "metadata": {},
   "source": [
    "Definimos una variable `DEBUG` (y su método de uso) que, en caso de estar activada, nos dará información adicional a lo largo de la ejecución del proyecto "
   ]
  },
  {
   "cell_type": "code",
   "execution_count": 385,
   "id": "d6fbe7e8",
   "metadata": {},
   "outputs": [],
   "source": [
    "DEBUG = True \n",
    "\n",
    "def debugPrint(string):\n",
    "    if DEBUG : print(string)"
   ]
  },
  {
   "cell_type": "markdown",
   "id": "30db9b88",
   "metadata": {},
   "source": [
    "# El dataset\n",
    "Cargamos los datasets y les añadimos la columna `type` que nos permitara reconocer de que tipo son una vez juntados los datasets. Si `type = 0` el vino será blanco, de lo contrario sera rojo   "
   ]
  },
  {
   "cell_type": "code",
   "execution_count": 386,
   "id": "5ca37e25-3df9-436a-85d4-435b969ae0c6",
   "metadata": {},
   "outputs": [
    {
     "data": {
      "text/html": [
       "<div>\n",
       "<style scoped>\n",
       "    .dataframe tbody tr th:only-of-type {\n",
       "        vertical-align: middle;\n",
       "    }\n",
       "\n",
       "    .dataframe tbody tr th {\n",
       "        vertical-align: top;\n",
       "    }\n",
       "\n",
       "    .dataframe thead th {\n",
       "        text-align: right;\n",
       "    }\n",
       "</style>\n",
       "<table border=\"1\" class=\"dataframe\">\n",
       "  <thead>\n",
       "    <tr style=\"text-align: right;\">\n",
       "      <th></th>\n",
       "      <th>type</th>\n",
       "      <th>fixed acidity</th>\n",
       "      <th>volatile acidity</th>\n",
       "      <th>citric acid</th>\n",
       "      <th>residual sugar</th>\n",
       "      <th>chlorides</th>\n",
       "      <th>free sulfur dioxide</th>\n",
       "      <th>total sulfur dioxide</th>\n",
       "      <th>density</th>\n",
       "      <th>pH</th>\n",
       "      <th>sulphates</th>\n",
       "      <th>alcohol</th>\n",
       "      <th>quality</th>\n",
       "    </tr>\n",
       "  </thead>\n",
       "  <tbody>\n",
       "    <tr>\n",
       "      <th>0</th>\n",
       "      <td>0</td>\n",
       "      <td>7.0</td>\n",
       "      <td>0.270</td>\n",
       "      <td>0.36</td>\n",
       "      <td>20.7</td>\n",
       "      <td>0.045</td>\n",
       "      <td>45.0</td>\n",
       "      <td>170.0</td>\n",
       "      <td>1.00100</td>\n",
       "      <td>3.00</td>\n",
       "      <td>0.45</td>\n",
       "      <td>8.8</td>\n",
       "      <td>6</td>\n",
       "    </tr>\n",
       "    <tr>\n",
       "      <th>1</th>\n",
       "      <td>0</td>\n",
       "      <td>6.3</td>\n",
       "      <td>0.300</td>\n",
       "      <td>0.34</td>\n",
       "      <td>1.6</td>\n",
       "      <td>0.049</td>\n",
       "      <td>14.0</td>\n",
       "      <td>132.0</td>\n",
       "      <td>0.99400</td>\n",
       "      <td>3.30</td>\n",
       "      <td>0.49</td>\n",
       "      <td>9.5</td>\n",
       "      <td>6</td>\n",
       "    </tr>\n",
       "    <tr>\n",
       "      <th>2</th>\n",
       "      <td>0</td>\n",
       "      <td>8.1</td>\n",
       "      <td>0.280</td>\n",
       "      <td>0.40</td>\n",
       "      <td>6.9</td>\n",
       "      <td>0.050</td>\n",
       "      <td>30.0</td>\n",
       "      <td>97.0</td>\n",
       "      <td>0.99510</td>\n",
       "      <td>3.26</td>\n",
       "      <td>0.44</td>\n",
       "      <td>10.1</td>\n",
       "      <td>6</td>\n",
       "    </tr>\n",
       "    <tr>\n",
       "      <th>3</th>\n",
       "      <td>0</td>\n",
       "      <td>7.2</td>\n",
       "      <td>0.230</td>\n",
       "      <td>0.32</td>\n",
       "      <td>8.5</td>\n",
       "      <td>0.058</td>\n",
       "      <td>47.0</td>\n",
       "      <td>186.0</td>\n",
       "      <td>0.99560</td>\n",
       "      <td>3.19</td>\n",
       "      <td>0.40</td>\n",
       "      <td>9.9</td>\n",
       "      <td>6</td>\n",
       "    </tr>\n",
       "    <tr>\n",
       "      <th>4</th>\n",
       "      <td>0</td>\n",
       "      <td>7.2</td>\n",
       "      <td>0.230</td>\n",
       "      <td>0.32</td>\n",
       "      <td>8.5</td>\n",
       "      <td>0.058</td>\n",
       "      <td>47.0</td>\n",
       "      <td>186.0</td>\n",
       "      <td>0.99560</td>\n",
       "      <td>3.19</td>\n",
       "      <td>0.40</td>\n",
       "      <td>9.9</td>\n",
       "      <td>6</td>\n",
       "    </tr>\n",
       "    <tr>\n",
       "      <th>...</th>\n",
       "      <td>...</td>\n",
       "      <td>...</td>\n",
       "      <td>...</td>\n",
       "      <td>...</td>\n",
       "      <td>...</td>\n",
       "      <td>...</td>\n",
       "      <td>...</td>\n",
       "      <td>...</td>\n",
       "      <td>...</td>\n",
       "      <td>...</td>\n",
       "      <td>...</td>\n",
       "      <td>...</td>\n",
       "      <td>...</td>\n",
       "    </tr>\n",
       "    <tr>\n",
       "      <th>1594</th>\n",
       "      <td>1</td>\n",
       "      <td>6.2</td>\n",
       "      <td>0.600</td>\n",
       "      <td>0.08</td>\n",
       "      <td>2.0</td>\n",
       "      <td>0.090</td>\n",
       "      <td>32.0</td>\n",
       "      <td>44.0</td>\n",
       "      <td>0.99490</td>\n",
       "      <td>3.45</td>\n",
       "      <td>0.58</td>\n",
       "      <td>10.5</td>\n",
       "      <td>5</td>\n",
       "    </tr>\n",
       "    <tr>\n",
       "      <th>1595</th>\n",
       "      <td>1</td>\n",
       "      <td>5.9</td>\n",
       "      <td>0.550</td>\n",
       "      <td>0.10</td>\n",
       "      <td>2.2</td>\n",
       "      <td>0.062</td>\n",
       "      <td>39.0</td>\n",
       "      <td>51.0</td>\n",
       "      <td>0.99512</td>\n",
       "      <td>3.52</td>\n",
       "      <td>0.76</td>\n",
       "      <td>11.2</td>\n",
       "      <td>6</td>\n",
       "    </tr>\n",
       "    <tr>\n",
       "      <th>1596</th>\n",
       "      <td>1</td>\n",
       "      <td>6.3</td>\n",
       "      <td>0.510</td>\n",
       "      <td>0.13</td>\n",
       "      <td>2.3</td>\n",
       "      <td>0.076</td>\n",
       "      <td>29.0</td>\n",
       "      <td>40.0</td>\n",
       "      <td>0.99574</td>\n",
       "      <td>3.42</td>\n",
       "      <td>0.75</td>\n",
       "      <td>11.0</td>\n",
       "      <td>6</td>\n",
       "    </tr>\n",
       "    <tr>\n",
       "      <th>1597</th>\n",
       "      <td>1</td>\n",
       "      <td>5.9</td>\n",
       "      <td>0.645</td>\n",
       "      <td>0.12</td>\n",
       "      <td>2.0</td>\n",
       "      <td>0.075</td>\n",
       "      <td>32.0</td>\n",
       "      <td>44.0</td>\n",
       "      <td>0.99547</td>\n",
       "      <td>3.57</td>\n",
       "      <td>0.71</td>\n",
       "      <td>10.2</td>\n",
       "      <td>5</td>\n",
       "    </tr>\n",
       "    <tr>\n",
       "      <th>1598</th>\n",
       "      <td>1</td>\n",
       "      <td>6.0</td>\n",
       "      <td>0.310</td>\n",
       "      <td>0.47</td>\n",
       "      <td>3.6</td>\n",
       "      <td>0.067</td>\n",
       "      <td>18.0</td>\n",
       "      <td>42.0</td>\n",
       "      <td>0.99549</td>\n",
       "      <td>3.39</td>\n",
       "      <td>0.66</td>\n",
       "      <td>11.0</td>\n",
       "      <td>6</td>\n",
       "    </tr>\n",
       "  </tbody>\n",
       "</table>\n",
       "<p>6497 rows × 13 columns</p>\n",
       "</div>"
      ],
      "text/plain": [
       "      type  fixed acidity  volatile acidity  citric acid  residual sugar  \\\n",
       "0        0            7.0             0.270         0.36            20.7   \n",
       "1        0            6.3             0.300         0.34             1.6   \n",
       "2        0            8.1             0.280         0.40             6.9   \n",
       "3        0            7.2             0.230         0.32             8.5   \n",
       "4        0            7.2             0.230         0.32             8.5   \n",
       "...    ...            ...               ...          ...             ...   \n",
       "1594     1            6.2             0.600         0.08             2.0   \n",
       "1595     1            5.9             0.550         0.10             2.2   \n",
       "1596     1            6.3             0.510         0.13             2.3   \n",
       "1597     1            5.9             0.645         0.12             2.0   \n",
       "1598     1            6.0             0.310         0.47             3.6   \n",
       "\n",
       "      chlorides  free sulfur dioxide  total sulfur dioxide  density    pH  \\\n",
       "0         0.045                 45.0                 170.0  1.00100  3.00   \n",
       "1         0.049                 14.0                 132.0  0.99400  3.30   \n",
       "2         0.050                 30.0                  97.0  0.99510  3.26   \n",
       "3         0.058                 47.0                 186.0  0.99560  3.19   \n",
       "4         0.058                 47.0                 186.0  0.99560  3.19   \n",
       "...         ...                  ...                   ...      ...   ...   \n",
       "1594      0.090                 32.0                  44.0  0.99490  3.45   \n",
       "1595      0.062                 39.0                  51.0  0.99512  3.52   \n",
       "1596      0.076                 29.0                  40.0  0.99574  3.42   \n",
       "1597      0.075                 32.0                  44.0  0.99547  3.57   \n",
       "1598      0.067                 18.0                  42.0  0.99549  3.39   \n",
       "\n",
       "      sulphates  alcohol  quality  \n",
       "0          0.45      8.8        6  \n",
       "1          0.49      9.5        6  \n",
       "2          0.44     10.1        6  \n",
       "3          0.40      9.9        6  \n",
       "4          0.40      9.9        6  \n",
       "...         ...      ...      ...  \n",
       "1594       0.58     10.5        5  \n",
       "1595       0.76     11.2        6  \n",
       "1596       0.75     11.0        6  \n",
       "1597       0.71     10.2        5  \n",
       "1598       0.66     11.0        6  \n",
       "\n",
       "[6497 rows x 13 columns]"
      ]
     },
     "execution_count": 386,
     "metadata": {},
     "output_type": "execute_result"
    }
   ],
   "source": [
    "white = pd.read_csv(\"dataset/winequality-white.csv\")\n",
    "white.insert(0, 'type',np.zeros(white.shape[0], dtype=np.int64))\n",
    "red = pd.read_csv(\"dataset/winequality-red.csv\")\n",
    "red.insert(0, 'type',np.ones(red.shape[0], dtype=np.int64))\n",
    "df = pd.concat([white, red])\n",
    "df"
   ]
  },
  {
   "cell_type": "markdown",
   "id": "26086f36",
   "metadata": {},
   "source": [
    "Preparamos los datos del dataset eliminando todos los posibles valores nulos y transformando los valores que no sean `np.float64` o `np.int64` "
   ]
  },
  {
   "cell_type": "code",
   "execution_count": 387,
   "id": "6f5728a5-6567-4f55-8219-eade476c8e37",
   "metadata": {},
   "outputs": [],
   "source": [
    "# Preparacion del dataset\n",
    "\n",
    "labelencoder = LabelEncoder()\n",
    "\n",
    "if not df[df.isna().any(axis=1)].shape[0] == 0 :\n",
    "    debugPrint(\"Valores nulos eliminados para el dataframe\")\n",
    "    \n",
    "df.dropna(inplace=True) # Eliminacion de valores nullos\n",
    "\n",
    "for column in df.columns: # Transformar posibles valores no numericos\n",
    "    if not df[column].dtype in (np.float64, np.int64):\n",
    "        df[column] = labelencoder.fit_transform(df[column])\n",
    "        debugPrint(f\"Los valores de {column} se han transformado a numericos\")\n"
   ]
  },
  {
   "cell_type": "markdown",
   "id": "0b9936b3",
   "metadata": {},
   "source": [
    "### Separación del conjunto de entrenamiento, validación y testeo\n",
    "Una vez obtenido nuestro dataset con sus valores procesados, creamos los 2 subconjuntos de datos que nos permitirán entrenar nuestros modelos (entrenamiento y testeo). El subconjutno de validación se creará posteriormente."
   ]
  },
  {
   "cell_type": "code",
   "execution_count": 388,
   "id": "7e0b4750",
   "metadata": {},
   "outputs": [],
   "source": [
    "min_max_scaler = preprocessing.MinMaxScaler()\n",
    "\n",
    "y = df[\"type\"]\n",
    "df.drop(\"type\", axis=1, inplace=True)\n",
    "x = min_max_scaler.fit_transform(df.values)\n",
    "\n",
    "x_train, x_test, y_train, y_test = train_test_split(x,y,test_size=TEST_SIZE, random_state=27)\n"
   ]
  },
  {
   "cell_type": "markdown",
   "id": "85a40bcd",
   "metadata": {},
   "source": [
    "# Modelos\n",
    "Una vez preparado nuestros datasets de entrenamiento y testeo, podemos usarlos para nuestros modelos de machine learning"
   ]
  },
  {
   "cell_type": "markdown",
   "id": "bb921537",
   "metadata": {},
   "source": [
    "## Aplicación"
   ]
  },
  {
   "cell_type": "markdown",
   "id": "42f4d45f",
   "metadata": {},
   "source": [
    "### Regresión lineal"
   ]
  },
  {
   "cell_type": "code",
   "execution_count": 389,
   "id": "c80f090c",
   "metadata": {},
   "outputs": [
    {
     "name": "stdout",
     "output_type": "stream",
     "text": [
      "              precision    recall  f1-score   support\n",
      "\n",
      "       White       0.99      0.99      0.99      1614\n",
      "         Red       0.98      0.98      0.98       531\n",
      "\n",
      "    accuracy                           0.99      2145\n",
      "   macro avg       0.99      0.99      0.99      2145\n",
      "weighted avg       0.99      0.99      0.99      2145\n",
      "\n"
     ]
    }
   ],
   "source": [
    "clr = LogisticRegression(random_state=0).fit(x_train, y_train)\n",
    "y_hat = clr.predict(x_test)\n",
    "print(classification_report(y_test, y_hat, target_names=[\"WHITE\", \"RED\"]))"
   ]
  },
  {
   "cell_type": "markdown",
   "id": "7ae444af",
   "metadata": {},
   "source": [
    "### Perceptron"
   ]
  },
  {
   "cell_type": "code",
   "execution_count": 390,
   "id": "b2226096",
   "metadata": {},
   "outputs": [
    {
     "name": "stdout",
     "output_type": "stream",
     "text": [
      "              precision    recall  f1-score   support\n",
      "\n",
      "       WHITE       0.89      1.00      0.94      1614\n",
      "         RED       1.00      0.63      0.77       531\n",
      "\n",
      "    accuracy                           0.91      2145\n",
      "   macro avg       0.94      0.81      0.86      2145\n",
      "weighted avg       0.92      0.91      0.90      2145\n",
      "\n"
     ]
    }
   ],
   "source": [
    "cp = Perceptron(random_state=0).fit(x_train, y_train)\n",
    "y_hat = cp.predict(x_test)\n",
    "print(classification_report(y_test, y_hat, target_names=[\"WHITE\", \"RED\"]))"
   ]
  },
  {
   "cell_type": "markdown",
   "id": "f95c8613",
   "metadata": {},
   "source": [
    "### Random forest"
   ]
  },
  {
   "cell_type": "code",
   "execution_count": 391,
   "id": "94b5bed3",
   "metadata": {},
   "outputs": [
    {
     "name": "stdout",
     "output_type": "stream",
     "text": [
      "              precision    recall  f1-score   support\n",
      "\n",
      "       WHITE       0.89      1.00      0.94      1614\n",
      "         RED       1.00      0.63      0.77       531\n",
      "\n",
      "    accuracy                           0.91      2145\n",
      "   macro avg       0.94      0.81      0.86      2145\n",
      "weighted avg       0.92      0.91      0.90      2145\n",
      "\n"
     ]
    }
   ],
   "source": [
    "crf = RandomForestClassifier(random_state=0).fit(x_train, y_train)\n",
    "y_hat = cp.predict(x_test)\n",
    "print(classification_report(y_test, y_hat, target_names=[\"WHITE\", \"RED\"]))"
   ]
  }
 ],
 "metadata": {
  "kernelspec": {
   "display_name": "Python 3 (ipykernel)",
   "language": "python",
   "name": "python3"
  },
  "language_info": {
   "codemirror_mode": {
    "name": "ipython",
    "version": 3
   },
   "file_extension": ".py",
   "mimetype": "text/x-python",
   "name": "python",
   "nbconvert_exporter": "python",
   "pygments_lexer": "ipython3",
   "version": "3.9.7"
  }
 },
 "nbformat": 4,
 "nbformat_minor": 5
}
